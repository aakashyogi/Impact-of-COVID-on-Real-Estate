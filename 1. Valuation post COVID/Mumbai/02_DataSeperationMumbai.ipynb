{
 "cells": [
  {
   "cell_type": "code",
   "execution_count": 1,
   "metadata": {},
   "outputs": [],
   "source": [
    "import numpy as np\n",
    "import pandas as pd\n",
    "import matplotlib.pyplot as plt\n",
    "import seaborn as sns\n",
    "from datetime import datetime\n",
    "\n",
    "from matplotlib.cbook import boxplot_stats\n",
    "%matplotlib inline\n",
    "import warnings\n",
    "warnings.filterwarnings('ignore')"
   ]
  },
  {
   "cell_type": "code",
   "execution_count": 2,
   "metadata": {},
   "outputs": [],
   "source": [
    "default_city_name = 'Mumbai'"
   ]
  },
  {
   "cell_type": "code",
   "execution_count": 3,
   "metadata": {},
   "outputs": [],
   "source": [
    "scraped_data = pd.read_csv('scraped_raw_data_'+default_city_name+'.csv')"
   ]
  },
  {
   "cell_type": "code",
   "execution_count": 4,
   "metadata": {},
   "outputs": [
    {
     "data": {
      "text/plain": [
       "city                 20580\n",
       "title                20580\n",
       "location             20580\n",
       "price(L)             20580\n",
       "rate_persqft         20580\n",
       "area_insqft          20580\n",
       "building_status      20580\n",
       "last_updated_date    20580\n",
       "dtype: int64"
      ]
     },
     "execution_count": 4,
     "metadata": {},
     "output_type": "execute_result"
    }
   ],
   "source": [
    "scraped_data.count()"
   ]
  },
  {
   "cell_type": "code",
   "execution_count": 5,
   "metadata": {},
   "outputs": [
    {
     "data": {
      "text/plain": [
       "city                 427\n",
       "title                427\n",
       "location             427\n",
       "price(L)             427\n",
       "rate_persqft         427\n",
       "area_insqft          427\n",
       "building_status      427\n",
       "last_updated_date    427\n",
       "dtype: int64"
      ]
     },
     "execution_count": 5,
     "metadata": {},
     "output_type": "execute_result"
    }
   ],
   "source": [
    "scraped_data.drop_duplicates(keep='first', inplace=True)\n",
    "scraped_data.count()"
   ]
  },
  {
   "cell_type": "code",
   "execution_count": 6,
   "metadata": {},
   "outputs": [
    {
     "name": "stdout",
     "output_type": "stream",
     "text": [
      "<class 'pandas.core.frame.DataFrame'>\n",
      "Int64Index: 427 entries, 0 to 20579\n",
      "Data columns (total 8 columns):\n",
      "city                 427 non-null object\n",
      "title                427 non-null object\n",
      "location             427 non-null object\n",
      "price(L)             427 non-null float64\n",
      "rate_persqft         427 non-null int64\n",
      "area_insqft          427 non-null int64\n",
      "building_status      427 non-null object\n",
      "last_updated_date    427 non-null object\n",
      "dtypes: float64(1), int64(2), object(5)\n",
      "memory usage: 30.0+ KB\n"
     ]
    }
   ],
   "source": [
    "scraped_data.info()"
   ]
  },
  {
   "cell_type": "code",
   "execution_count": 7,
   "metadata": {},
   "outputs": [],
   "source": [
    "# Correcting few values\n",
    "scraped_data['location'] = scraped_data['location'].replace('Dombivali East', 'Dombivli East')\n",
    "scraped_data['location'] = scraped_data['location'].replace('Dombivli (West)', 'Dombivli West')"
   ]
  },
  {
   "cell_type": "code",
   "execution_count": 8,
   "metadata": {},
   "outputs": [
    {
     "data": {
      "text/html": [
       "<div>\n",
       "<style scoped>\n",
       "    .dataframe tbody tr th:only-of-type {\n",
       "        vertical-align: middle;\n",
       "    }\n",
       "\n",
       "    .dataframe tbody tr th {\n",
       "        vertical-align: top;\n",
       "    }\n",
       "\n",
       "    .dataframe thead th {\n",
       "        text-align: right;\n",
       "    }\n",
       "</style>\n",
       "<table border=\"1\" class=\"dataframe\">\n",
       "  <thead>\n",
       "    <tr style=\"text-align: right;\">\n",
       "      <th></th>\n",
       "      <th>city</th>\n",
       "      <th>title</th>\n",
       "      <th>location</th>\n",
       "      <th>price(L)</th>\n",
       "      <th>rate_persqft</th>\n",
       "      <th>area_insqft</th>\n",
       "      <th>building_status</th>\n",
       "      <th>last_updated_date</th>\n",
       "    </tr>\n",
       "  </thead>\n",
       "  <tbody>\n",
       "    <tr>\n",
       "      <th>0</th>\n",
       "      <td>Mumbai</td>\n",
       "      <td>3 BHK Apartment</td>\n",
       "      <td>Andheri East</td>\n",
       "      <td>312.0</td>\n",
       "      <td>22694</td>\n",
       "      <td>1377</td>\n",
       "      <td>Ready to move</td>\n",
       "      <td>2019-09-19</td>\n",
       "    </tr>\n",
       "    <tr>\n",
       "      <th>1</th>\n",
       "      <td>Mumbai</td>\n",
       "      <td>2 BHK Apartment</td>\n",
       "      <td>Andheri East</td>\n",
       "      <td>160.0</td>\n",
       "      <td>17777</td>\n",
       "      <td>900</td>\n",
       "      <td>Ready to move</td>\n",
       "      <td>2019-10-16</td>\n",
       "    </tr>\n",
       "    <tr>\n",
       "      <th>2</th>\n",
       "      <td>Mumbai</td>\n",
       "      <td>1 BHK Apartment</td>\n",
       "      <td>Andheri East</td>\n",
       "      <td>110.0</td>\n",
       "      <td>17322</td>\n",
       "      <td>635</td>\n",
       "      <td>Ready to move</td>\n",
       "      <td>2019-09-11</td>\n",
       "    </tr>\n",
       "    <tr>\n",
       "      <th>3</th>\n",
       "      <td>Mumbai</td>\n",
       "      <td>1 BHK Apartment</td>\n",
       "      <td>Andheri East</td>\n",
       "      <td>37.0</td>\n",
       "      <td>16444</td>\n",
       "      <td>225</td>\n",
       "      <td>Ready to move</td>\n",
       "      <td>2019-11-11</td>\n",
       "    </tr>\n",
       "    <tr>\n",
       "      <th>4</th>\n",
       "      <td>Mumbai</td>\n",
       "      <td>2 BHK Apartment</td>\n",
       "      <td>Andheri East</td>\n",
       "      <td>180.0</td>\n",
       "      <td>18000</td>\n",
       "      <td>1000</td>\n",
       "      <td>Ready to move</td>\n",
       "      <td>2019-11-11</td>\n",
       "    </tr>\n",
       "  </tbody>\n",
       "</table>\n",
       "</div>"
      ],
      "text/plain": [
       "     city            title      location  price(L)  rate_persqft  area_insqft  \\\n",
       "0  Mumbai  3 BHK Apartment  Andheri East     312.0         22694         1377   \n",
       "1  Mumbai  2 BHK Apartment  Andheri East     160.0         17777          900   \n",
       "2  Mumbai  1 BHK Apartment  Andheri East     110.0         17322          635   \n",
       "3  Mumbai  1 BHK Apartment  Andheri East      37.0         16444          225   \n",
       "4  Mumbai  2 BHK Apartment  Andheri East     180.0         18000         1000   \n",
       "\n",
       "  building_status last_updated_date  \n",
       "0   Ready to move        2019-09-19  \n",
       "1   Ready to move        2019-10-16  \n",
       "2   Ready to move        2019-09-11  \n",
       "3   Ready to move        2019-11-11  \n",
       "4   Ready to move        2019-11-11  "
      ]
     },
     "execution_count": 8,
     "metadata": {},
     "output_type": "execute_result"
    }
   ],
   "source": [
    "# Last Updated Date needs to be converted from String format to Date format\n",
    "scraped_data['last_updated_date'] = scraped_data['last_updated_date'].replace(regex=['Last update - '], value='')\n",
    "scraped_data['last_updated_date'] = pd.to_datetime(scraped_data['last_updated_date'])\n",
    "scraped_data.head()"
   ]
  },
  {
   "cell_type": "code",
   "execution_count": 9,
   "metadata": {},
   "outputs": [
    {
     "name": "stdout",
     "output_type": "stream",
     "text": [
      "<class 'pandas.core.frame.DataFrame'>\n",
      "Int64Index: 427 entries, 0 to 20579\n",
      "Data columns (total 8 columns):\n",
      "city                 427 non-null object\n",
      "title                427 non-null object\n",
      "location             427 non-null object\n",
      "price(L)             427 non-null float64\n",
      "rate_persqft         427 non-null int64\n",
      "area_insqft          427 non-null int64\n",
      "building_status      427 non-null object\n",
      "last_updated_date    427 non-null datetime64[ns]\n",
      "dtypes: datetime64[ns](1), float64(1), int64(2), object(4)\n",
      "memory usage: 30.0+ KB\n"
     ]
    }
   ],
   "source": [
    "# Check if 'last_updated_date' attribute is changed to datetime type.\n",
    "scraped_data.info()"
   ]
  },
  {
   "cell_type": "code",
   "execution_count": 10,
   "metadata": {},
   "outputs": [],
   "source": [
    "def filter_data_datewise(data, start_date, end_date) :\n",
    "    filter_cond = (data['last_updated_date'] >= start_date) & (data['last_updated_date'] <= end_date)\n",
    "    filtered_data = data.loc[filter_cond]\n",
    "    return filtered_data"
   ]
  },
  {
   "cell_type": "code",
   "execution_count": 11,
   "metadata": {},
   "outputs": [
    {
     "data": {
      "text/plain": [
       "city                 231\n",
       "title                231\n",
       "location             231\n",
       "price(L)             231\n",
       "rate_persqft         231\n",
       "area_insqft          231\n",
       "building_status      231\n",
       "last_updated_date    231\n",
       "dtype: int64"
      ]
     },
     "execution_count": 11,
     "metadata": {},
     "output_type": "execute_result"
    }
   ],
   "source": [
    "start_date_2019 = '01-01-2019'\n",
    "end_date_2019 = '31-12-2019'\n",
    "scraped_data_2019 = filter_data_datewise(scraped_data, start_date_2019, end_date_2019)\n",
    "scraped_data_2019.count()"
   ]
  },
  {
   "cell_type": "code",
   "execution_count": 12,
   "metadata": {},
   "outputs": [
    {
     "data": {
      "text/plain": [
       "city                 196\n",
       "title                196\n",
       "location             196\n",
       "price(L)             196\n",
       "rate_persqft         196\n",
       "area_insqft          196\n",
       "building_status      196\n",
       "last_updated_date    196\n",
       "dtype: int64"
      ]
     },
     "execution_count": 12,
     "metadata": {},
     "output_type": "execute_result"
    }
   ],
   "source": [
    "start_date_2020 = '01-01-2020'\n",
    "end_date_2020 = '31-12-2020'\n",
    "scraped_data_2020 = filter_data_datewise(scraped_data, start_date_2020, end_date_2020)\n",
    "scraped_data_2020.count()"
   ]
  },
  {
   "cell_type": "code",
   "execution_count": 13,
   "metadata": {},
   "outputs": [
    {
     "data": {
      "text/html": [
       "<div>\n",
       "<style scoped>\n",
       "    .dataframe tbody tr th:only-of-type {\n",
       "        vertical-align: middle;\n",
       "    }\n",
       "\n",
       "    .dataframe tbody tr th {\n",
       "        vertical-align: top;\n",
       "    }\n",
       "\n",
       "    .dataframe thead th {\n",
       "        text-align: right;\n",
       "    }\n",
       "</style>\n",
       "<table border=\"1\" class=\"dataframe\">\n",
       "  <thead>\n",
       "    <tr style=\"text-align: right;\">\n",
       "      <th></th>\n",
       "      <th>city</th>\n",
       "      <th>title</th>\n",
       "      <th>location</th>\n",
       "      <th>price(L)</th>\n",
       "      <th>rate_persqft</th>\n",
       "      <th>area_insqft</th>\n",
       "      <th>building_status</th>\n",
       "      <th>last_updated_date</th>\n",
       "    </tr>\n",
       "  </thead>\n",
       "  <tbody>\n",
       "    <tr>\n",
       "      <th>2948</th>\n",
       "      <td>Mumbai</td>\n",
       "      <td>4 BHK Apartment</td>\n",
       "      <td>Bandra West</td>\n",
       "      <td>830.0</td>\n",
       "      <td>41500</td>\n",
       "      <td>2000</td>\n",
       "      <td>Ready to move</td>\n",
       "      <td>2019-11-28</td>\n",
       "    </tr>\n",
       "    <tr>\n",
       "      <th>1975</th>\n",
       "      <td>Mumbai</td>\n",
       "      <td>2 BHK Apartment</td>\n",
       "      <td>Bandra East</td>\n",
       "      <td>157.0</td>\n",
       "      <td>18847</td>\n",
       "      <td>833</td>\n",
       "      <td>Under Construction</td>\n",
       "      <td>2019-11-23</td>\n",
       "    </tr>\n",
       "    <tr>\n",
       "      <th>19603</th>\n",
       "      <td>Mumbai</td>\n",
       "      <td>2 BHK Apartment</td>\n",
       "      <td>Chembur</td>\n",
       "      <td>192.0</td>\n",
       "      <td>14550</td>\n",
       "      <td>1320</td>\n",
       "      <td>Ready to move</td>\n",
       "      <td>2019-09-18</td>\n",
       "    </tr>\n",
       "    <tr>\n",
       "      <th>6866</th>\n",
       "      <td>Mumbai</td>\n",
       "      <td>1 BHK Apartment</td>\n",
       "      <td>Dadar West</td>\n",
       "      <td>195.0</td>\n",
       "      <td>29104</td>\n",
       "      <td>670</td>\n",
       "      <td>Ready to move</td>\n",
       "      <td>2019-11-25</td>\n",
       "    </tr>\n",
       "    <tr>\n",
       "      <th>11767</th>\n",
       "      <td>Mumbai</td>\n",
       "      <td>3 BHK Apartment</td>\n",
       "      <td>Thane East</td>\n",
       "      <td>175.0</td>\n",
       "      <td>11290</td>\n",
       "      <td>1550</td>\n",
       "      <td>Ready to move</td>\n",
       "      <td>2019-02-12</td>\n",
       "    </tr>\n",
       "  </tbody>\n",
       "</table>\n",
       "</div>"
      ],
      "text/plain": [
       "         city            title     location  price(L)  rate_persqft  \\\n",
       "2948   Mumbai  4 BHK Apartment  Bandra West     830.0         41500   \n",
       "1975   Mumbai  2 BHK Apartment  Bandra East     157.0         18847   \n",
       "19603  Mumbai  2 BHK Apartment      Chembur     192.0         14550   \n",
       "6866   Mumbai  1 BHK Apartment   Dadar West     195.0         29104   \n",
       "11767  Mumbai  3 BHK Apartment   Thane East     175.0         11290   \n",
       "\n",
       "       area_insqft     building_status last_updated_date  \n",
       "2948          2000       Ready to move        2019-11-28  \n",
       "1975           833  Under Construction        2019-11-23  \n",
       "19603         1320       Ready to move        2019-09-18  \n",
       "6866           670       Ready to move        2019-11-25  \n",
       "11767         1550       Ready to move        2019-02-12  "
      ]
     },
     "execution_count": 13,
     "metadata": {},
     "output_type": "execute_result"
    }
   ],
   "source": [
    "scraped_data_2019.sample(5)"
   ]
  },
  {
   "cell_type": "code",
   "execution_count": 14,
   "metadata": {},
   "outputs": [
    {
     "data": {
      "text/html": [
       "<div>\n",
       "<style scoped>\n",
       "    .dataframe tbody tr th:only-of-type {\n",
       "        vertical-align: middle;\n",
       "    }\n",
       "\n",
       "    .dataframe tbody tr th {\n",
       "        vertical-align: top;\n",
       "    }\n",
       "\n",
       "    .dataframe thead th {\n",
       "        text-align: right;\n",
       "    }\n",
       "</style>\n",
       "<table border=\"1\" class=\"dataframe\">\n",
       "  <thead>\n",
       "    <tr style=\"text-align: right;\">\n",
       "      <th></th>\n",
       "      <th>city</th>\n",
       "      <th>title</th>\n",
       "      <th>location</th>\n",
       "      <th>price(L)</th>\n",
       "      <th>rate_persqft</th>\n",
       "      <th>area_insqft</th>\n",
       "      <th>building_status</th>\n",
       "      <th>last_updated_date</th>\n",
       "    </tr>\n",
       "  </thead>\n",
       "  <tbody>\n",
       "    <tr>\n",
       "      <th>3933</th>\n",
       "      <td>Mumbai</td>\n",
       "      <td>1 BHK Apartment</td>\n",
       "      <td>Borivali East</td>\n",
       "      <td>92.0</td>\n",
       "      <td>16727</td>\n",
       "      <td>550</td>\n",
       "      <td>Ready to move</td>\n",
       "      <td>2020-01-15</td>\n",
       "    </tr>\n",
       "    <tr>\n",
       "      <th>1962</th>\n",
       "      <td>Mumbai</td>\n",
       "      <td>3 BHK Apartment</td>\n",
       "      <td>Bandra East</td>\n",
       "      <td>700.0</td>\n",
       "      <td>36842</td>\n",
       "      <td>1900</td>\n",
       "      <td>Ready to move</td>\n",
       "      <td>2020-01-16</td>\n",
       "    </tr>\n",
       "    <tr>\n",
       "      <th>3926</th>\n",
       "      <td>Mumbai</td>\n",
       "      <td>2 BHK Apartment</td>\n",
       "      <td>Borivali East</td>\n",
       "      <td>200.0</td>\n",
       "      <td>20597</td>\n",
       "      <td>971</td>\n",
       "      <td>Under Construction</td>\n",
       "      <td>2020-01-15</td>\n",
       "    </tr>\n",
       "    <tr>\n",
       "      <th>18622</th>\n",
       "      <td>Mumbai</td>\n",
       "      <td>2 BHK Apartment</td>\n",
       "      <td>Juhu</td>\n",
       "      <td>50.0</td>\n",
       "      <td>5000</td>\n",
       "      <td>1000</td>\n",
       "      <td>Ready to move</td>\n",
       "      <td>2020-01-15</td>\n",
       "    </tr>\n",
       "    <tr>\n",
       "      <th>9810</th>\n",
       "      <td>Mumbai</td>\n",
       "      <td>3 BHK Apartment</td>\n",
       "      <td>Kandivali East</td>\n",
       "      <td>275.0</td>\n",
       "      <td>16176</td>\n",
       "      <td>1700</td>\n",
       "      <td>Ready to move</td>\n",
       "      <td>2020-01-15</td>\n",
       "    </tr>\n",
       "  </tbody>\n",
       "</table>\n",
       "</div>"
      ],
      "text/plain": [
       "         city            title        location  price(L)  rate_persqft  \\\n",
       "3933   Mumbai  1 BHK Apartment   Borivali East      92.0         16727   \n",
       "1962   Mumbai  3 BHK Apartment     Bandra East     700.0         36842   \n",
       "3926   Mumbai  2 BHK Apartment   Borivali East     200.0         20597   \n",
       "18622  Mumbai  2 BHK Apartment            Juhu      50.0          5000   \n",
       "9810   Mumbai  3 BHK Apartment  Kandivali East     275.0         16176   \n",
       "\n",
       "       area_insqft     building_status last_updated_date  \n",
       "3933           550       Ready to move        2020-01-15  \n",
       "1962          1900       Ready to move        2020-01-16  \n",
       "3926           971  Under Construction        2020-01-15  \n",
       "18622         1000       Ready to move        2020-01-15  \n",
       "9810          1700       Ready to move        2020-01-15  "
      ]
     },
     "execution_count": 14,
     "metadata": {},
     "output_type": "execute_result"
    }
   ],
   "source": [
    "scraped_data_2020.sample(5)"
   ]
  },
  {
   "cell_type": "code",
   "execution_count": 15,
   "metadata": {},
   "outputs": [
    {
     "data": {
      "text/plain": [
       "location\n",
       "Ambernath East     3963.230769\n",
       "Andheri East      18447.400000\n",
       "Andheri West      22022.000000\n",
       "Bandra East       26276.222222\n",
       "Bandra West       41952.250000\n",
       "Borivali East     12874.500000\n",
       "Borivali West     19478.307692\n",
       "Chembur           16534.950000\n",
       "Dadar East        33826.714286\n",
       "Dadar West        30404.176471\n",
       "Dombivli East      4407.800000\n",
       "Dombivli West      5521.916667\n",
       "Juhu              33082.200000\n",
       "Kandivali East    12219.000000\n",
       "Kandivali West    14556.571429\n",
       "Kharghar           9684.450000\n",
       "Mahalaxmi         32267.142857\n",
       "Powai             18071.000000\n",
       "Thane East        10953.285714\n",
       "Thane West        11271.052632\n",
       "Worli             40833.333333\n",
       "Name: rate_persqft, dtype: float64"
      ]
     },
     "execution_count": 15,
     "metadata": {},
     "output_type": "execute_result"
    }
   ],
   "source": [
    "scraped_data_2019.groupby(by='location')['rate_persqft'].mean()"
   ]
  },
  {
   "cell_type": "code",
   "execution_count": 16,
   "metadata": {},
   "outputs": [
    {
     "data": {
      "text/plain": [
       "location\n",
       "Ambernath East     4442.500000\n",
       "Andheri East      16816.266667\n",
       "Andheri West      34239.687500\n",
       "Bandra East       42505.200000\n",
       "Bandra West       53111.250000\n",
       "Borivali East     17504.307692\n",
       "Borivali West     18196.333333\n",
       "Chembur           26666.000000\n",
       "Dadar East        35486.333333\n",
       "Dadar West        29762.666667\n",
       "Dombivli East      5881.000000\n",
       "Dombivli West      6292.555556\n",
       "Juhu              26417.833333\n",
       "Kandivali East    17242.800000\n",
       "Kandivali West    18194.428571\n",
       "Mahalaxmi         35949.615385\n",
       "Powai             22550.111111\n",
       "Thane West         9610.000000\n",
       "Worli             31846.750000\n",
       "Name: rate_persqft, dtype: float64"
      ]
     },
     "execution_count": 16,
     "metadata": {},
     "output_type": "execute_result"
    }
   ],
   "source": [
    "scraped_data_2020.groupby(by='location')['rate_persqft'].mean()"
   ]
  },
  {
   "cell_type": "code",
   "execution_count": 17,
   "metadata": {},
   "outputs": [
    {
     "name": "stdout",
     "output_type": "stream",
     "text": [
      "231\n",
      "151\n"
     ]
    }
   ],
   "source": [
    "# Dropping some locations where we have less data\n",
    "print(len(scraped_data_2019))\n",
    "data_final_2019 = scraped_data_2019[scraped_data_2019['location'] != 'Kharghar']\n",
    "data_final_2019 = data_final_2019[data_final_2019['location'] != 'Chembur']\n",
    "data_final_2019 = data_final_2019[data_final_2019['location'] != 'Thane East']\n",
    "data_final_2019 = data_final_2019[data_final_2019['location'] != 'Thane West']\n",
    "print(len(data_final_2019))"
   ]
  },
  {
   "cell_type": "code",
   "execution_count": 18,
   "metadata": {},
   "outputs": [
    {
     "name": "stdout",
     "output_type": "stream",
     "text": [
      "196\n",
      "194\n"
     ]
    }
   ],
   "source": [
    "# Dropping some locations where we have less data\n",
    "print(len(scraped_data_2020))\n",
    "data_final_2020 = scraped_data_2020[scraped_data_2020['location'] != 'Kharghar']\n",
    "data_final_2020 = data_final_2020[data_final_2020['location'] != 'Chembur']\n",
    "data_final_2020 = data_final_2020[data_final_2020['location'] != 'Thane East']\n",
    "data_final_2020 = data_final_2020[data_final_2020['location'] != 'Thane West']\n",
    "print(len(data_final_2020))"
   ]
  },
  {
   "cell_type": "code",
   "execution_count": 19,
   "metadata": {},
   "outputs": [],
   "source": [
    "data_final_2019.to_csv('scraped_raw_data_'+default_city_name+'_2019.csv',index=False)"
   ]
  },
  {
   "cell_type": "code",
   "execution_count": 20,
   "metadata": {},
   "outputs": [],
   "source": [
    "data_final_2020.to_csv('scraped_raw_data_'+default_city_name+'_2020.csv',index=False)"
   ]
  },
  {
   "cell_type": "code",
   "execution_count": null,
   "metadata": {},
   "outputs": [],
   "source": []
  },
  {
   "cell_type": "code",
   "execution_count": null,
   "metadata": {},
   "outputs": [],
   "source": []
  },
  {
   "cell_type": "code",
   "execution_count": null,
   "metadata": {},
   "outputs": [],
   "source": []
  }
 ],
 "metadata": {
  "kernelspec": {
   "display_name": "Python 3",
   "language": "python",
   "name": "python3"
  },
  "language_info": {
   "codemirror_mode": {
    "name": "ipython",
    "version": 3
   },
   "file_extension": ".py",
   "mimetype": "text/x-python",
   "name": "python",
   "nbconvert_exporter": "python",
   "pygments_lexer": "ipython3",
   "version": "3.7.3"
  }
 },
 "nbformat": 4,
 "nbformat_minor": 2
}
