{
 "cells": [
  {
   "cell_type": "code",
   "execution_count": 1,
   "metadata": {},
   "outputs": [],
   "source": [
    "from bs4 import BeautifulSoup as soup\n",
    "from requests import get\n",
    "import pandas as pd\n",
    "import requests\n",
    "import re"
   ]
  },
  {
   "cell_type": "code",
   "execution_count": 2,
   "metadata": {},
   "outputs": [],
   "source": [
    "df1 = pd.DataFrame()\n",
    "df2 = pd.DataFrame()\n",
    "df3 = pd.DataFrame()\n",
    "df4 = pd.DataFrame()\n",
    "df5 = pd.DataFrame()\n",
    "df6 = pd.DataFrame()\n",
    "df7 = pd.DataFrame()\n",
    "df8 = pd.DataFrame()\n",
    "df9 = pd.DataFrame()\n",
    "df10 = pd.DataFrame()\n",
    "df11 = pd.DataFrame()"
   ]
  },
  {
   "cell_type": "code",
   "execution_count": 26,
   "metadata": {},
   "outputs": [],
   "source": [
    "title = []\n",
    "locationnew=[]\n",
    "price=[]\n",
    "price_per_sqft=[]\n",
    "area_in_sqft=[]\n",
    "building_status=[]\n",
    "n_pages = 0\n",
    "for page in range(1,100):  #The no. of pages you wanted to scrap considering pages available in the url.\n",
    "    n_pages += 1\n",
    "    #url = 'https://www.makaan.com/hyderabad-residential-property/buy-property-in-hyderabad-city?budget=,'+'&page='+str(page)\n",
    "    if((page == 1) | (page==2) ):\n",
    "        url='https://www.makaan.com/bangalore-property/electronic-city-phase-2-flats-for-sale-68601'\n",
    "    else:\n",
    "        url='https://www.makaan.com/bangalore-property/electronic-city-phase-2-flats-for-sale-68601?page='+'str(page)'\n",
    "    # This for gets us into next page after every iteration.\n",
    "    res = requests.get(url) # Here r is response data.\n",
    "    \n",
    "    page_html = soup(res.text, 'html.parser') \n",
    "    house_containers = page_html.find_all(\"li\",class_=\"cardholder\") # Class containing overall data of a property.\n",
    "    for data in house_containers:\n",
    "        type=data.find_all(\"a\",class_=\"typelink\") # Class containing title name of a property.\n",
    "        for i in type:\n",
    "            d=i.text\n",
    "            title.append(d) \n",
    "        location=data.find_all(\"a\",class_=\"loclink\")\n",
    "        #print(location)\n",
    "        for i in location:\n",
    "            \n",
    "            loc = i.find(\"span\",itemprop=\"addressLocality\").text\n",
    "            locationnew.append(loc)\n",
    "\n",
    "        cost=data.find_all(\"td\",class_=\"price\")\n",
    "        for i in cost:\n",
    "            d=i.text\n",
    "            if 'L' in d:\n",
    "                a = d.split()[0]\n",
    "                price.append(float(a)) # Type conversion of obtained data.\n",
    "            elif 'Cr' in d:\n",
    "                b = d.split()[0]\n",
    "                price.append(float(b) * 100) # Coverting CRORES into LAKHS.\n",
    "            else:  # If no value found in the class return value 0.\n",
    "                e=0\n",
    "                price.append(float(e)) \n",
    "                \n",
    "        rate_sqft=data.find_all('td',class_=\"lbl rate\")\n",
    "        for i in rate_sqft:\n",
    "            d=i.text\n",
    "            res= d.split('/',)[0]\n",
    "            r=re.sub(\",\",\"\" ,res) # Substitute no character in the place of ,(comma).\n",
    "            price_per_sqft.append(r)\n",
    "            \n",
    "        area_sqft=data.find_all('td',class_=\"size\")\n",
    "        for i in area_sqft:\n",
    "            d=i.text\n",
    "            area_in_sqft.append(d)\n",
    "            \n",
    "        building_status_=data.find_all(\"td\",class_=\"val\")\n",
    "        for i in building_status_:\n",
    "            d=i.text\n",
    "            building_status.append(d)\n",
    "df = pd.DataFrame()            \n",
    "df['title']=title \n",
    "df['location']=locationnew\n",
    "df['price(L)']=price\n",
    "df['rate_persqft']=price_per_sqft\n",
    "df['area_insqft']=area_in_sqft\n",
    "df['building_status']=building_status\n",
    "\n",
    "#print('You scraped {} pages containing {} properties.'.format(n_pages, len(title)))\n",
    "# Returns the number of pages scrapped and time taken for scarpping those pages.\n",
    "df = df.loc[~df.duplicated()]"
   ]
  },
  {
   "cell_type": "code",
   "execution_count": 27,
   "metadata": {},
   "outputs": [],
   "source": [
    "df.to_csv('df.csv',index= False)\n"
   ]
  },
  {
   "cell_type": "code",
   "execution_count": null,
   "metadata": {},
   "outputs": [],
   "source": []
  }
 ],
 "metadata": {
  "kernelspec": {
   "display_name": "Python 3",
   "language": "python",
   "name": "python3"
  },
  "language_info": {
   "codemirror_mode": {
    "name": "ipython",
    "version": 3
   },
   "file_extension": ".py",
   "mimetype": "text/x-python",
   "name": "python",
   "nbconvert_exporter": "python",
   "pygments_lexer": "ipython3",
   "version": "3.7.4"
  }
 },
 "nbformat": 4,
 "nbformat_minor": 4
}
